{
 "cells": [
  {
   "cell_type": "code",
   "execution_count": 1,
   "metadata": {
    "collapsed": false
   },
   "outputs": [
    {
     "name": "stderr",
     "output_type": "stream",
     "text": [
      "/home/tom/anaconda2/lib/python2.7/site-packages/pandas/io/data.py:33: FutureWarning: \n",
      "The pandas.io.data module is moved to a separate package (pandas-datareader) and will be removed from pandas in a future version.\n",
      "After installing the pandas-datareader package (https://github.com/pydata/pandas-datareader), you can change the import ``from pandas.io import data, wb`` to ``from pandas_datareader import data, wb``.\n",
      "  FutureWarning)\n"
     ]
    }
   ],
   "source": [
    "import pandas as pd   \n",
    "import numpy as np   \n",
    "import pandas.io.data as web   \n",
    "from datetime import datetime   \n",
    "import scipy as sp   \n",
    "import scipy.optimize as scopt   \n",
    "import scipy.stats as spstats   \n",
    "import matplotlib.pyplot as plt   \n",
    "import matplotlib.mlab as mlab   \n",
    "\n",
    "%matplotlib inline   \n",
    "pd.set_option('display.notebook_repr_html', False)   \n",
    "pd.set_option('display.max_columns', 7)   \n",
    "pd.set_option('display.max_rows', 10)    \n",
    "pd.set_option('display.width', 82)    \n",
    "pd.set_option('precision', 3)"
   ]
  },
  {
   "cell_type": "code",
   "execution_count": 2,
   "metadata": {
    "collapsed": true
   },
   "outputs": [],
   "source": [
    "def create_portfolio(tickers, weights=None):       \n",
    "    if (weights is None):            \n",
    "        shares = np.ones(len(tickers))/len(tickers)       \n",
    "    portfolio = pd.DataFrame({'Tickers': tickers,'Weights': weights}, index=tickers)       \n",
    "    return portfolio"
   ]
  },
  {
   "cell_type": "code",
   "execution_count": 3,
   "metadata": {
    "collapsed": false
   },
   "outputs": [
    {
     "data": {
      "text/plain": [
       "         Tickers  Weights\n",
       "Stock A  Stock A        1\n",
       "Stock B  Stock B        1"
      ]
     },
     "execution_count": 3,
     "metadata": {},
     "output_type": "execute_result"
    }
   ],
   "source": [
    "portfolio = create_portfolio(['Stock A', 'Stock B'],[1, 1])   \n",
    "portfolio"
   ]
  },
  {
   "cell_type": "code",
   "execution_count": 4,
   "metadata": {
    "collapsed": false
   },
   "outputs": [
    {
     "data": {
      "text/plain": [
       "   Stock A  Stock B\n",
       "0     0.10    -0.15\n",
       "1     0.24    -0.20\n",
       "2     0.05    -0.01\n",
       "3    -0.02     0.04\n",
       "4     0.20    -0.15"
      ]
     },
     "execution_count": 4,
     "metadata": {},
     "output_type": "execute_result"
    }
   ],
   "source": [
    "returns = pd.DataFrame({'Stock A': [0.1, 0.24, 0.05, -0.02, 0.2],  'Stock B': [-0.15, -0.2, -0.01, 0.04, -0.15]})   \n",
    "returns"
   ]
  },
  {
   "cell_type": "code",
   "execution_count": 5,
   "metadata": {
    "collapsed": true
   },
   "outputs": [],
   "source": [
    "# Create Weighted Portfolio\n",
    "def calculate_weighted_portfolio_value(portfolio, returns, name='Value'):\n",
    "    total_weights = portfolio.Weights.sum()\n",
    "    weighted_returns = returns * (portfolio.Weights / total_weights)       \n",
    "    return pd.DataFrame({name: weighted_returns.sum(axis=1)})"
   ]
  },
  {
   "cell_type": "code",
   "execution_count": 12,
   "metadata": {
    "collapsed": false
   },
   "outputs": [
    {
     "data": {
      "text/plain": [
       "   Stock A  Stock B  Return of Weighted Portfolio\n",
       "0     0.10    -0.15                        -0.025\n",
       "1     0.24    -0.20                         0.020\n",
       "2     0.05    -0.01                         0.020\n",
       "3    -0.02     0.04                         0.010\n",
       "4     0.20    -0.15                         0.025"
      ]
     },
     "execution_count": 12,
     "metadata": {},
     "output_type": "execute_result"
    }
   ],
   "source": [
    "wr = calculate_weighted_portfolio_value(portfolio, returns, \"Return of Weighted Portfolio\")   \n",
    "with_value = pd.concat([returns, wr], axis=1)   \n",
    "with_value"
   ]
  },
  {
   "cell_type": "code",
   "execution_count": 13,
   "metadata": {
    "collapsed": false
   },
   "outputs": [
    {
     "data": {
      "text/plain": [
       "Stock A                         0.107\n",
       "Stock B                         0.103\n",
       "Return of Weighted Portfolio    0.020\n",
       "dtype: float64"
      ]
     },
     "execution_count": 13,
     "metadata": {},
     "output_type": "execute_result"
    }
   ],
   "source": [
    "#calculate volatility\n",
    "with_value.std()"
   ]
  },
  {
   "cell_type": "code",
   "execution_count": 14,
   "metadata": {
    "collapsed": false
   },
   "outputs": [
    {
     "data": {
      "text/plain": [
       "'\\nnotice above\\nStock A had a volatility of 11 percent and Stock B of 10 percent. The combined portfolio \\nrepresented significantly lower volatility of 2 percent. This is because we picked two \\nnegatively correlated stocks with similar volatility and combining them has therefore \\nreduced the overall risk.\\n'"
      ]
     },
     "execution_count": 14,
     "metadata": {},
     "output_type": "execute_result"
    }
   ],
   "source": [
    "'''\n",
    "notice above\n",
    "Stock A had a volatility of 11 percent and Stock B of 10 percent. The combined portfolio \n",
    "represented significantly lower volatility of 2 percent. This is because we picked two \n",
    "negatively correlated stocks with similar volatility and combining them has therefore \n",
    "reduced the overall risk.\n",
    "'''"
   ]
  },
  {
   "cell_type": "code",
   "execution_count": 15,
   "metadata": {
    "collapsed": true
   },
   "outputs": [],
   "source": [
    "def plot_portfolio_returns(returns, title=None):       \n",
    "    returns.plot(figsize=(12,8))       \n",
    "    plt.xlabel('Year')       \n",
    "    plt.ylabel('Returns')       \n",
    "    if (title is not None): \n",
    "        plt.title(title)       \n",
    "    plt.show()"
   ]
  },
  {
   "cell_type": "code",
   "execution_count": 16,
   "metadata": {
    "collapsed": false
   },
   "outputs": [
    {
     "data": {
      "image/png": "[encoded data removed]",
      "text/plain": [
       "<matplotlib.figure.Figure at 0x7f078c09af90>"
      ]
     },
     "metadata": {},
     "output_type": "display_data"
    }
   ],
   "source": [
    "plot_portfolio_returns(with_value)"
   ]
  },
  {
   "cell_type": "code",
   "execution_count": 17,
   "metadata": {
    "collapsed": false
   },
   "outputs": [
    {
     "data": {
      "text/plain": [
       "         Stock A  Stock B\n",
       "Stock A    1.000   -0.926\n",
       "Stock B   -0.926    1.000"
      ]
     },
     "execution_count": 17,
     "metadata": {},
     "output_type": "execute_result"
    }
   ],
   "source": [
    "# Check correlations between stocks\n",
    "# Correlation btw Stock A and Stock B almost perfectly negatively correlated\n",
    "returns.corr()"
   ]
  },
  {
   "cell_type": "code",
   "execution_count": 18,
   "metadata": {
    "collapsed": true
   },
   "outputs": [],
   "source": [
    "def get_historical_closes(ticker, start_date, end_date):       \n",
    "    p = web.DataReader(ticker, \"yahoo\", start_date, end_date)           \n",
    "    d = p.to_frame()['Adj Close'].reset_index()       \n",
    "    d.rename(columns={'minor': 'Ticker', 'Adj Close': 'Close'}, inplace=True)       \n",
    "    pivoted = d.pivot(index='Date', columns='Ticker')       \n",
    "    pivoted.columns = pivoted.columns.droplevel(0)       \n",
    "    return pivoted"
   ]
  },
  {
   "cell_type": "code",
   "execution_count": 20,
   "metadata": {
    "collapsed": false
   },
   "outputs": [],
   "source": [
    "closes = get_historical_closes(['MSFT', 'AAPL', 'KO'], '2010-01-01', '2014-12-31')"
   ]
  },
  {
   "cell_type": "code",
   "execution_count": 21,
   "metadata": {
    "collapsed": false
   },
   "outputs": [
    {
     "data": {
      "text/plain": [
       "Ticker        AAPL      KO    MSFT\n",
       "Date                              \n",
       "2010-01-04  27.990  23.319  25.884\n",
       "2010-01-05  28.039  23.037  25.892\n",
       "2010-01-06  27.593  23.029  25.734\n",
       "2010-01-07  27.542  22.971  25.466\n",
       "2010-01-08  27.725  22.546  25.642"
      ]
     },
     "execution_count": 21,
     "metadata": {},
     "output_type": "execute_result"
    }
   ],
   "source": [
    "closes[:5]"
   ]
  },
  {
   "cell_type": "code",
   "execution_count": 22,
   "metadata": {
    "collapsed": true
   },
   "outputs": [],
   "source": [
    "def calc_daily_returns(closes):       \n",
    "    return np.log(closes/closes.shift(1))"
   ]
  },
  {
   "cell_type": "code",
   "execution_count": 23,
   "metadata": {
    "collapsed": false
   },
   "outputs": [
    {
     "data": {
      "text/plain": [
       "Ticker       AAPL         KO       MSFT\n",
       "Date                                   \n",
       "2010-01-04    NaN        NaN        NaN\n",
       "2010-01-05  0.002 -1.217e-02  3.230e-04\n",
       "2010-01-06 -0.016 -3.549e-04 -6.156e-03\n",
       "2010-01-07 -0.002 -2.488e-03 -1.045e-02\n",
       "2010-01-08  0.007 -1.868e-02  6.873e-03"
      ]
     },
     "execution_count": 23,
     "metadata": {},
     "output_type": "execute_result"
    }
   ],
   "source": [
    "daily_returns = calc_daily_returns(closes)   \n",
    "daily_returns[:5]"
   ]
  },
  {
   "cell_type": "code",
   "execution_count": 28,
   "metadata": {
    "collapsed": true
   },
   "outputs": [],
   "source": [
    "def calc_annual_returns(daily_returns):       \n",
    "    grouped = np.exp(daily_returns.groupby(lambda date: date.year).sum())-1       \n",
    "    return grouped"
   ]
  },
  {
   "cell_type": "code",
   "execution_count": 29,
   "metadata": {
    "collapsed": false
   },
   "outputs": [
    {
     "data": {
      "text/plain": [
       "Ticker   AAPL     KO   MSFT\n",
       "2010    0.507  0.189 -0.079\n",
       "2011    0.256  0.095 -0.045\n",
       "2012    0.326  0.065  0.058\n",
       "2013    0.081  0.172  0.443\n",
       "2014    0.406  0.053  0.276"
      ]
     },
     "execution_count": 29,
     "metadata": {},
     "output_type": "execute_result"
    }
   ],
   "source": [
    "annual_returns = calc_annual_returns(daily_returns)   \n",
    "annual_returns"
   ]
  },
  {
   "cell_type": "code",
   "execution_count": 30,
   "metadata": {
    "collapsed": true
   },
   "outputs": [],
   "source": [
    "def calc_portfolio_var(returns, weights=None):       \n",
    "    if (weights is None):            \n",
    "        weights = np.ones(returns.columns.size) / returns.columns.size       \n",
    "    sigma = np.cov(returns.T,ddof=0)       \n",
    "    var = (weights * sigma * weights.T).sum()       \n",
    "    return var   "
   ]
  },
  {
   "cell_type": "code",
   "execution_count": 31,
   "metadata": {
    "collapsed": false
   },
   "outputs": [
    {
     "data": {
      "text/plain": [
       "0.0028795409974699615"
      ]
     },
     "execution_count": 31,
     "metadata": {},
     "output_type": "execute_result"
    }
   ],
   "source": [
    "calc_portfolio_var(annual_returns)"
   ]
  },
  {
   "cell_type": "code",
   "execution_count": 37,
   "metadata": {
    "collapsed": false
   },
   "outputs": [
    {
     "data": {
      "text/plain": [
       "         2010   2011   2012   2013   2014\n",
       "Ticker                                   \n",
       "AAPL    0.507  0.256  0.326  0.081  0.406\n",
       "KO      0.189  0.095  0.065  0.172  0.053\n",
       "MSFT   -0.079 -0.045  0.058  0.443  0.276"
      ]
     },
     "execution_count": 37,
     "metadata": {},
     "output_type": "execute_result"
    }
   ],
   "source": [
    "annual_returns.T"
   ]
  },
  {
   "cell_type": "code",
   "execution_count": 36,
   "metadata": {
    "collapsed": false
   },
   "outputs": [
    {
     "data": {
      "text/plain": [
       "array([[  2.07627378e-02,  -8.28493561e-04,  -1.81331198e-02],\n",
       "       [ -8.28493561e-04,   3.11846779e-03,   8.89961508e-05],\n",
       "       [ -1.81331198e-02,   8.89961508e-05,   3.97798978e-02]])"
      ]
     },
     "execution_count": 36,
     "metadata": {},
     "output_type": "execute_result"
    }
   ],
   "source": [
    "sigma = np.cov(annual_returns.T,ddof=0)  \n"
   ]
  },
  {
   "cell_type": "code",
   "execution_count": 38,
   "metadata": {
    "collapsed": true
   },
   "outputs": [],
   "source": [
    "def sharpe_ratio(returns, weights = None, risk_free_rate = 0.015):       \n",
    "    n = returns.columns.size       \n",
    "    if weights is None: \n",
    "        weights = np.ones(n)/n       \n",
    "    var = calc_portfolio_var(returns, weights)       \n",
    "    means = returns.mean()       \n",
    "    return (means.dot(weights) - risk_free_rate)/np.sqrt(var)"
   ]
  },
  {
   "cell_type": "code",
   "execution_count": 39,
   "metadata": {
    "collapsed": false
   },
   "outputs": [
    {
     "data": {
      "text/plain": [
       "3.2010926488651599"
      ]
     },
     "execution_count": 39,
     "metadata": {},
     "output_type": "execute_result"
    }
   ],
   "source": [
    "sharpe_ratio(annual_returns)"
   ]
  },
  {
   "cell_type": "code",
   "execution_count": 40,
   "metadata": {
    "collapsed": false
   },
   "outputs": [
    {
     "name": "stdout",
     "output_type": "stream",
     "text": [
      "Optimization terminated successfully.\n",
      "         Current function value: 2.000000\n",
      "         Iterations: 27\n",
      "         Function evaluations: 54\n"
     ]
    },
    {
     "data": {
      "text/plain": [
       "array([ 0.])"
      ]
     },
     "execution_count": 40,
     "metadata": {},
     "output_type": "execute_result"
    }
   ],
   "source": [
    "# Quick example of how minimization works (minimum value for func is 2 when x=0)\n",
    "def y_f(x): return 2+x**2\n",
    "scopt.fmin(y_f, 1000)      # 1000 is seed value for x"
   ]
  },
  {
   "cell_type": "code",
   "execution_count": 41,
   "metadata": {
    "collapsed": true
   },
   "outputs": [],
   "source": [
    "# Need to maximize Sharpe ratio.  To do this iwth a minimize algo, we need to create a func to return neg Sharpe\n",
    "# Minimize functions will provide best values for function parameters\n",
    "def negative_sharpe_ratio_n_minus_1_stock(weights, returns, risk_free_rate):       \n",
    "    \"\"\"       \n",
    "    Given n-1 weights, return a negative sharpe ratio       \n",
    "    \"\"\"       \n",
    "    weights2 = sp.append(weights, 1-np.sum(weights))       \n",
    "    return -sharpe_ratio(returns, weights2, risk_free_rate)"
   ]
  },
  {
   "cell_type": "code",
   "execution_count": 42,
   "metadata": {
    "collapsed": true
   },
   "outputs": [],
   "source": [
    "def optimize_portfolio(returns, risk_free_rate):       \n",
    "    w0 = np.ones(returns.columns.size-1, dtype=float) * 1.0 / returns.columns.size       \n",
    "    w1 = scopt.fmin(negative_sharpe_ratio_n_minus_1_stock, w0, args=(returns, risk_free_rate))       \n",
    "    final_w = sp.append(w1, 1 - np.sum(w1))       \n",
    "    final_sharpe = sharpe_ratio(returns, final_w, risk_free_rate)       \n",
    "    return (final_w, final_sharpe)"
   ]
  },
  {
   "cell_type": "code",
   "execution_count": 43,
   "metadata": {
    "collapsed": false
   },
   "outputs": [
    {
     "name": "stdout",
     "output_type": "stream",
     "text": [
      "Optimization terminated successfully.\n",
      "         Current function value: -7.829861\n",
      "         Iterations: 46\n",
      "         Function evaluations: 89\n"
     ]
    },
    {
     "data": {
      "text/plain": [
       "(array([ 0.76353353,  0.2103234 ,  0.02614307]), 7.829861388697041)"
      ]
     },
     "execution_count": 43,
     "metadata": {},
     "output_type": "execute_result"
    }
   ],
   "source": [
    "optimize_portfolio(annual_returns, 0.0003)"
   ]
  },
  {
   "cell_type": "code",
   "execution_count": 44,
   "metadata": {
    "collapsed": true
   },
   "outputs": [],
   "source": [
    "def objfun(W, R, target_ret):       \n",
    "    stock_mean = np.mean(R,axis=0)       \n",
    "    port_mean = np.dot(W,stock_mean)        \n",
    "    cov=np.cov(R.T)        \n",
    "    port_var = np.dot(np.dot(W,cov),W.T)        \n",
    "    penalty = 2000*abs(port_mean-target_ret)       \n",
    "    return np.sqrt(port_var) + penalty "
   ]
  },
  {
   "cell_type": "code",
   "execution_count": 45,
   "metadata": {
    "collapsed": true
   },
   "outputs": [],
   "source": [
    "def calc_efficient_frontier(returns):       \n",
    "    result_means = []       \n",
    "    result_stds = []       \n",
    "    result_weights = []           \n",
    "    means = returns.mean()       \n",
    "    min_mean, max_mean = means.min(), means.max()           \n",
    "    nstocks = returns.columns.size           \n",
    "    for r in np.linspace(min_mean, max_mean, 100):           \n",
    "        weights = np.ones(nstocks)/nstocks           \n",
    "        bounds = [(0,1) for i in np.arange(nstocks)]           \n",
    "        constraints = ({'type': 'eq',  'fun': lambda W: np.sum(W) - 1})           \n",
    "        results = scopt.minimize(objfun, weights, (returns, r), method='SLSQP', constraints = constraints, bounds = bounds)           \n",
    "        if not results.success: \n",
    "            # handle error \n",
    "            raise Exception(result.message)           \n",
    "        result_means.append(np.round(r,4)) # 4 decimal places           \n",
    "        std_=np.round(np.std(np.sum(returns*results.x,axis=1)),6)           \n",
    "        result_stds.append(std_)                   \n",
    "        result_weights.append(np.round(results.x, 5))   \n",
    "    return {'Means': result_means, 'Stds': result_stds, 'Weights': result_weights}"
   ]
  },
  {
   "cell_type": "code",
   "execution_count": 46,
   "metadata": {
    "collapsed": true
   },
   "outputs": [],
   "source": [
    "frontier_data = calc_efficient_frontier(annual_returns)"
   ]
  },
  {
   "cell_type": "code",
   "execution_count": 47,
   "metadata": {
    "collapsed": false
   },
   "outputs": [
    {
     "data": {
      "text/plain": [
       "{'Means': [0.1148,\n",
       "  0.1169,\n",
       "  0.11890000000000001,\n",
       "  0.12089999999999999,\n",
       "  0.1229,\n",
       "  0.125,\n",
       "  0.127,\n",
       "  0.129,\n",
       "  0.13100000000000001,\n",
       "  0.13300000000000001,\n",
       "  0.1351,\n",
       "  0.1371,\n",
       "  0.1391,\n",
       "  0.1411,\n",
       "  0.14319999999999999,\n",
       "  0.1452,\n",
       "  0.1472,\n",
       "  0.1492,\n",
       "  0.15129999999999999,\n",
       "  0.15329999999999999,\n",
       "  0.15529999999999999,\n",
       "  0.1573,\n",
       "  0.1593,\n",
       "  0.16139999999999999,\n",
       "  0.16339999999999999,\n",
       "  0.16539999999999999,\n",
       "  0.16739999999999999,\n",
       "  0.16950000000000001,\n",
       "  0.17150000000000001,\n",
       "  0.17349999999999999,\n",
       "  0.17549999999999999,\n",
       "  0.17749999999999999,\n",
       "  0.17960000000000001,\n",
       "  0.18160000000000001,\n",
       "  0.18360000000000001,\n",
       "  0.18559999999999999,\n",
       "  0.18770000000000001,\n",
       "  0.18970000000000001,\n",
       "  0.19170000000000001,\n",
       "  0.19370000000000001,\n",
       "  0.19570000000000001,\n",
       "  0.1978,\n",
       "  0.19980000000000001,\n",
       "  0.20180000000000001,\n",
       "  0.20380000000000001,\n",
       "  0.2059,\n",
       "  0.2079,\n",
       "  0.2099,\n",
       "  0.21190000000000001,\n",
       "  0.21390000000000001,\n",
       "  0.216,\n",
       "  0.218,\n",
       "  0.22,\n",
       "  0.222,\n",
       "  0.22409999999999999,\n",
       "  0.2261,\n",
       "  0.2281,\n",
       "  0.2301,\n",
       "  0.23219999999999999,\n",
       "  0.23419999999999999,\n",
       "  0.23619999999999999,\n",
       "  0.2382,\n",
       "  0.2402,\n",
       "  0.24229999999999999,\n",
       "  0.24429999999999999,\n",
       "  0.24629999999999999,\n",
       "  0.24829999999999999,\n",
       "  0.25040000000000001,\n",
       "  0.25240000000000001,\n",
       "  0.25440000000000002,\n",
       "  0.25640000000000002,\n",
       "  0.25840000000000002,\n",
       "  0.26050000000000001,\n",
       "  0.26250000000000001,\n",
       "  0.26450000000000001,\n",
       "  0.26650000000000001,\n",
       "  0.26860000000000001,\n",
       "  0.27060000000000001,\n",
       "  0.27260000000000001,\n",
       "  0.27460000000000001,\n",
       "  0.27660000000000001,\n",
       "  0.2787,\n",
       "  0.28070000000000001,\n",
       "  0.28270000000000001,\n",
       "  0.28470000000000001,\n",
       "  0.2868,\n",
       "  0.2888,\n",
       "  0.2908,\n",
       "  0.2928,\n",
       "  0.2949,\n",
       "  0.2969,\n",
       "  0.2989,\n",
       "  0.3009,\n",
       "  0.3029,\n",
       "  0.30499999999999999,\n",
       "  0.307,\n",
       "  0.309,\n",
       "  0.311,\n",
       "  0.31309999999999999,\n",
       "  0.31509999999999999],\n",
       " 'Stds': [0.055842999999999997,\n",
       "  0.053446,\n",
       "  0.052564,\n",
       "  0.051706000000000002,\n",
       "  0.050871,\n",
       "  0.050064999999999998,\n",
       "  0.049285000000000002,\n",
       "  0.048533,\n",
       "  0.047813000000000001,\n",
       "  0.047122999999999998,\n",
       "  0.046466,\n",
       "  0.045844000000000003,\n",
       "  0.045258,\n",
       "  0.044708999999999999,\n",
       "  0.044199000000000002,\n",
       "  0.043728999999999997,\n",
       "  0.043299999999999998,\n",
       "  0.042913,\n",
       "  0.042569999999999997,\n",
       "  0.042271999999999997,\n",
       "  0.042021999999999997,\n",
       "  0.041827999999999997,\n",
       "  0.041655999999999999,\n",
       "  0.041543999999999998,\n",
       "  0.041481999999999998,\n",
       "  0.041466999999999997,\n",
       "  0.041501999999999997,\n",
       "  0.041583000000000002,\n",
       "  0.041713,\n",
       "  0.041890999999999998,\n",
       "  0.042115,\n",
       "  0.042402000000000002,\n",
       "  0.042777999999999997,\n",
       "  0.043062999999999997,\n",
       "  0.043466999999999999,\n",
       "  0.043920000000000001,\n",
       "  0.044398,\n",
       "  0.044923999999999999,\n",
       "  0.045489000000000002,\n",
       "  0.046089999999999999,\n",
       "  0.046725999999999997,\n",
       "  0.047395,\n",
       "  0.048097000000000001,\n",
       "  0.048830999999999999,\n",
       "  0.049592999999999998,\n",
       "  0.050383999999999998,\n",
       "  0.051202999999999999,\n",
       "  0.052046000000000002,\n",
       "  0.052914000000000003,\n",
       "  0.053806,\n",
       "  0.054719999999999998,\n",
       "  0.055657999999999999,\n",
       "  0.056611000000000002,\n",
       "  0.057584000000000003,\n",
       "  0.058589000000000002,\n",
       "  0.059584999999999999,\n",
       "  0.060609999999999997,\n",
       "  0.061650999999999997,\n",
       "  0.062706999999999999,\n",
       "  0.063777,\n",
       "  0.064860000000000001,\n",
       "  0.065955,\n",
       "  0.067062999999999998,\n",
       "  0.068184999999999996,\n",
       "  0.069311999999999999,\n",
       "  0.070458999999999994,\n",
       "  0.071603,\n",
       "  0.072762999999999994,\n",
       "  0.073930999999999997,\n",
       "  0.075116000000000002,\n",
       "  0.076294000000000001,\n",
       "  0.078741000000000005,\n",
       "  0.078895000000000007,\n",
       "  0.080379999999999993,\n",
       "  0.081979999999999997,\n",
       "  0.083687999999999999,\n",
       "  0.085498000000000005,\n",
       "  0.087403999999999996,\n",
       "  0.089398000000000005,\n",
       "  0.091477000000000003,\n",
       "  0.093632999999999994,\n",
       "  0.095861000000000002,\n",
       "  0.098157999999999995,\n",
       "  0.100517,\n",
       "  0.102936,\n",
       "  0.105409,\n",
       "  0.107933,\n",
       "  0.110504,\n",
       "  0.113119,\n",
       "  0.115776,\n",
       "  0.11847199999999999,\n",
       "  0.12120300000000001,\n",
       "  0.12396699999999999,\n",
       "  0.12676299999999999,\n",
       "  0.12958800000000001,\n",
       "  0.132441,\n",
       "  0.13531899999999999,\n",
       "  0.13822200000000001,\n",
       "  0.14114699999999999,\n",
       "  0.144093],\n",
       " 'Weights': [array([ 0.,  1.,  0.]),\n",
       "  array([ 0.00512,  0.9308 ,  0.06407]),\n",
       "  array([ 0.01497,  0.9177 ,  0.06733]),\n",
       "  array([ 0.02469,  0.90303,  0.07228]),\n",
       "  array([ 0.03458,  0.89049,  0.07493]),\n",
       "  array([ 0.0443 ,  0.87584,  0.07987]),\n",
       "  array([ 0.0543 ,  0.86459,  0.08111]),\n",
       "  array([ 0.06402,  0.84987,  0.08612]),\n",
       "  array([ 0.07376,  0.83557,  0.09067]),\n",
       "  array([ 0.08361,  0.82251,  0.09387]),\n",
       "  array([ 0.09353,  0.81025,  0.09621]),\n",
       "  array([ 0.10329,  0.79606,  0.10065]),\n",
       "  array([ 0.11313,  0.78286,  0.10401]),\n",
       "  array([ 0.12294,  0.76936,  0.1077 ]),\n",
       "  array([ 0.13276,  0.75589,  0.11135]),\n",
       "  array([ 0.14261,  0.7428 ,  0.11459]),\n",
       "  array([ 0.15234,  0.72833,  0.11933]),\n",
       "  array([ 0.16226,  0.71599,  0.12175]),\n",
       "  array([ 0.17201,  0.70181,  0.12618]),\n",
       "  array([ 0.18185,  0.68859,  0.12956]),\n",
       "  array([ 0.19149,  0.67305,  0.13546]),\n",
       "  array([ 0.20188,  0.66636,  0.13176]),\n",
       "  array([ 0.21143,  0.64963,  0.13895]),\n",
       "  array([ 0.22113,  0.63482,  0.14405]),\n",
       "  array([ 0.23085,  0.62023,  0.14892]),\n",
       "  array([ 0.24075,  0.60769,  0.15156]),\n",
       "  array([ 0.25044,  0.59274,  0.15682]),\n",
       "  array([ 0.26042,  0.58125,  0.15833]),\n",
       "  array([ 0.27022,  0.56752,  0.16226]),\n",
       "  array([ 0.27996,  0.55308,  0.16697]),\n",
       "  array([ 0.28985,  0.54049,  0.16967]),\n",
       "  array([ 0.3001 ,  0.53216,  0.16774]),\n",
       "  array([ 0.31042,  0.52464,  0.16495]),\n",
       "  array([ 0.31937,  0.50096,  0.17966]),\n",
       "  array([ 0.32903,  0.48559,  0.18539]),\n",
       "  array([ 0.33863,  0.46951,  0.19186]),\n",
       "  array([ 0.34876,  0.45985,  0.19139]),\n",
       "  array([ 0.35858,  0.44638,  0.19504]),\n",
       "  array([ 0.36844,  0.4334 ,  0.19816]),\n",
       "  array([ 0.3783 ,  0.42047,  0.20123]),\n",
       "  array([ 0.38794,  0.40488,  0.20718]),\n",
       "  array([ 0.39778,  0.39171,  0.2105 ]),\n",
       "  array([ 0.40766,  0.37897,  0.21337]),\n",
       "  array([ 0.41759,  0.36682,  0.21559]),\n",
       "  array([ 0.42737,  0.35285,  0.21978]),\n",
       "  array([ 0.43711,  0.33856,  0.22432]),\n",
       "  array([ 0.44685,  0.32418,  0.22897]),\n",
       "  array([ 0.45679,  0.31215,  0.23106]),\n",
       "  array([ 0.46654,  0.29784,  0.23562]),\n",
       "  array([ 0.47636,  0.28441,  0.23923]),\n",
       "  array([ 0.48629,  0.27226,  0.24145]),\n",
       "  array([ 0.49627,  0.2607 ,  0.24304]),\n",
       "  array([ 0.50602,  0.24647,  0.24751]),\n",
       "  array([ 0.51576,  0.23211,  0.25212]),\n",
       "  array([ 0.52595,  0.22302,  0.25103]),\n",
       "  array([ 0.5352 ,  0.20287,  0.26192]),\n",
       "  array([ 0.54516,  0.19109,  0.26375]),\n",
       "  array([ 0.55501,  0.17797,  0.26703]),\n",
       "  array([ 0.56465,  0.16237,  0.27298]),\n",
       "  array([ 0.57457,  0.15019,  0.27524]),\n",
       "  array([ 0.58431,  0.13581,  0.27987]),\n",
       "  array([ 0.5942 ,  0.12319,  0.28261]),\n",
       "  array([ 0.60401,  0.10959,  0.28641]),\n",
       "  array([ 0.61407,  0.09906,  0.28687]),\n",
       "  array([ 0.62362,  0.08243,  0.29394]),\n",
       "  array([ 0.63382,  0.07348,  0.2927 ]),\n",
       "  array([ 0.64335,  0.05656,  0.3001 ]),\n",
       "  array([ 0.65307,  0.04199,  0.30494]),\n",
       "  array([ 0.66293,  0.02905,  0.30801]),\n",
       "  array([ 0.67235,  0.01087,  0.31677]),\n",
       "  array([ 0.68257,  0.00209,  0.31534]),\n",
       "  array([ 0.69751,  0.04942,  0.25307]),\n",
       "  array([ 0.70429,  0.     ,  0.29571]),\n",
       "  array([ 0.71525,  0.     ,  0.28475]),\n",
       "  array([ 0.7262,  0.    ,  0.2738]),\n",
       "  array([ 0.73715,  0.     ,  0.26285]),\n",
       "  array([ 0.7481,  0.    ,  0.2519]),\n",
       "  array([ 0.75905,  0.     ,  0.24095]),\n",
       "  array([ 0.77001,  0.     ,  0.22999]),\n",
       "  array([ 0.78096,  0.     ,  0.21904]),\n",
       "  array([ 0.79191,  0.     ,  0.20809]),\n",
       "  array([ 0.80286,  0.     ,  0.19714]),\n",
       "  array([ 0.81382,  0.     ,  0.18618]),\n",
       "  array([ 0.82477,  0.     ,  0.17523]),\n",
       "  array([ 0.83572,  0.     ,  0.16428]),\n",
       "  array([ 0.84667,  0.     ,  0.15333]),\n",
       "  array([ 0.85762,  0.     ,  0.14238]),\n",
       "  array([ 0.86858,  0.     ,  0.13142]),\n",
       "  array([ 0.87953,  0.     ,  0.12047]),\n",
       "  array([ 0.89048,  0.     ,  0.10952]),\n",
       "  array([ 0.90143,  0.     ,  0.09857]),\n",
       "  array([ 0.91238,  0.     ,  0.08762]),\n",
       "  array([ 0.92334,  0.     ,  0.07666]),\n",
       "  array([ 0.93429,  0.     ,  0.06571]),\n",
       "  array([ 0.94524,  0.     ,  0.05476]),\n",
       "  array([ 0.95619,  0.     ,  0.04381]),\n",
       "  array([ 0.96714,  0.     ,  0.03286]),\n",
       "  array([ 0.9781,  0.    ,  0.0219]),\n",
       "  array([ 0.98905,  0.     ,  0.01095]),\n",
       "  array([ 1.,  0.,  0.])]}"
      ]
     },
     "execution_count": 47,
     "metadata": {},
     "output_type": "execute_result"
    }
   ],
   "source": [
    "frontier_data"
   ]
  },
  {
   "cell_type": "code",
   "execution_count": 48,
   "metadata": {
    "collapsed": false
   },
   "outputs": [
    {
     "data": {
      "text/plain": [
       "[0.1148, 0.1169, 0.11890000000000001, 0.12089999999999999, 0.1229]"
      ]
     },
     "execution_count": 48,
     "metadata": {},
     "output_type": "execute_result"
    }
   ],
   "source": [
    "frontier_data['Means'][:5]"
   ]
  },
  {
   "cell_type": "code",
   "execution_count": 49,
   "metadata": {
    "collapsed": false
   },
   "outputs": [
    {
     "data": {
      "text/plain": [
       "[0.055842999999999997, 0.053446, 0.052564, 0.051706000000000002, 0.050871]"
      ]
     },
     "execution_count": 49,
     "metadata": {},
     "output_type": "execute_result"
    }
   ],
   "source": [
    "frontier_data['Stds'][:5]"
   ]
  },
  {
   "cell_type": "code",
   "execution_count": 61,
   "metadata": {
    "collapsed": false
   },
   "outputs": [
    {
     "data": {
      "text/plain": [
       "array([ 0.24075,  0.60769,  0.15156])"
      ]
     },
     "execution_count": 61,
     "metadata": {},
     "output_type": "execute_result"
    }
   ],
   "source": [
    "# Minimum Variance Portfolio is found by identifying the index of the lowest variance datapoint\n",
    "# Use that index to find the associated weights\n",
    "x=frontier_data['Stds'].index(min(frontier_data['Stds']))\n",
    "frontier_data['Weights'][x]"
   ]
  },
  {
   "cell_type": "code",
   "execution_count": 50,
   "metadata": {
    "collapsed": false
   },
   "outputs": [
    {
     "data": {
      "text/plain": [
       "[array([ 0.,  1.,  0.]),\n",
       " array([ 0.00512,  0.9308 ,  0.06407]),\n",
       " array([ 0.01497,  0.9177 ,  0.06733]),\n",
       " array([ 0.02469,  0.90303,  0.07228]),\n",
       " array([ 0.03458,  0.89049,  0.07493])]"
      ]
     },
     "execution_count": 50,
     "metadata": {},
     "output_type": "execute_result"
    }
   ],
   "source": [
    "frontier_data['Weights'][:5]"
   ]
  },
  {
   "cell_type": "code",
   "execution_count": 51,
   "metadata": {
    "collapsed": true
   },
   "outputs": [],
   "source": [
    "def plot_efficient_frontier(ef_data):       \n",
    "    plt.figure(figsize=(12,8))       \n",
    "    plt.title('Efficient Frontier')       \n",
    "    plt.xlabel('Standard Deviation of the porfolio (Risk))')       \n",
    "    plt.ylabel('Return of the portfolio')       \n",
    "    plt.plot(ef_data['Stds'], ef_data['Means'], '--');  "
   ]
  },
  {
   "cell_type": "code",
   "execution_count": 52,
   "metadata": {
    "collapsed": false
   },
   "outputs": [
    {
     "data": {
      "image/png": "[encoded data removed]",
      "text/plain": [
       "<matplotlib.figure.Figure at 0x7f074da8f910>"
      ]
     },
     "metadata": {},
     "output_type": "display_data"
    }
   ],
   "source": [
    "plot_efficient_frontier(frontier_data)"
   ]
  },
  {
   "cell_type": "code",
   "execution_count": 53,
   "metadata": {
    "collapsed": false
   },
   "outputs": [
    {
     "data": {
      "text/plain": [
       "14.400000000000002"
      ]
     },
     "execution_count": 53,
     "metadata": {},
     "output_type": "execute_result"
    }
   ],
   "source": []
  },
  {
   "cell_type": "code",
   "execution_count": null,
   "metadata": {
    "collapsed": true
   },
   "outputs": [],
   "source": []
  }
 ],
 "metadata": {
  "kernelspec": {
   "display_name": "Python 2",
   "language": "python",
   "name": "python2"
  },
  "language_info": {
   "codemirror_mode": {
    "name": "ipython",
    "version": 2
   },
   "file_extension": ".py",
   "mimetype": "text/x-python",
   "name": "python",
   "nbconvert_exporter": "python",
   "pygments_lexer": "ipython2",
   "version": "2.7.12"
  }
 },
 "nbformat": 4,
 "nbformat_minor": 0
}
