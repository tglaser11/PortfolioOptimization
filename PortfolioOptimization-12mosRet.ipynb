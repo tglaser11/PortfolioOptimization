{
 "cells": [
  {
   "cell_type": "code",
   "execution_count": 1,
   "metadata": {
    "collapsed": false
   },
   "outputs": [
    {
     "name": "stderr",
     "output_type": "stream",
     "text": [
      "/home/tom/anaconda2/lib/python2.7/site-packages/pandas/io/data.py:33: FutureWarning: \n",
      "The pandas.io.data module is moved to a separate package (pandas-datareader) and will be removed from pandas in a future version.\n",
      "After installing the pandas-datareader package (https://github.com/pydata/pandas-datareader), you can change the import ``from pandas.io import data, wb`` to ``from pandas_datareader import data, wb``.\n",
      "  FutureWarning)\n"
     ]
    }
   ],
   "source": [
    "import pandas as pd   \n",
    "import numpy as np   \n",
    "import pandas.io.data as web   \n",
    "from datetime import datetime   \n",
    "import scipy as sp   \n",
    "import scipy.optimize as scopt   \n",
    "import scipy.stats as spstats   \n",
    "import matplotlib.pyplot as plt   \n",
    "import matplotlib.mlab as mlab   \n",
    "import math\n",
    "\n",
    "%matplotlib inline   \n",
    "pd.set_option('display.notebook_repr_html', False)   \n",
    "pd.set_option('display.max_columns', 7)   \n",
    "pd.set_option('display.max_rows', 10)    \n",
    "pd.set_option('display.width', 82)    \n",
    "pd.set_option('precision', 3)"
   ]
  },
  {
   "cell_type": "code",
   "execution_count": 2,
   "metadata": {
    "collapsed": true
   },
   "outputs": [],
   "source": [
    "def get_historical_closes(ticker, start_date, end_date):       \n",
    "    p = web.DataReader(ticker, \"yahoo\", start_date, end_date)           \n",
    "    d = p.to_frame()['Adj Close'].reset_index()       \n",
    "    d.rename(columns={'minor': 'Ticker', 'Adj Close': 'Close'}, inplace=True)       \n",
    "    pivoted = d.pivot(index='Date', columns='Ticker')       \n",
    "    pivoted.columns = pivoted.columns.droplevel(0)       \n",
    "    return pivoted"
   ]
  },
  {
   "cell_type": "code",
   "execution_count": 3,
   "metadata": {
    "collapsed": false
   },
   "outputs": [],
   "source": [
    "closes = get_historical_closes(['VTI','VGK','EWJ','EEM','IEF','TLT','ICF','RWX','DBC','GLD'], '2013-01-01', '2014-12-31')"
   ]
  },
  {
   "cell_type": "code",
   "execution_count": 4,
   "metadata": {
    "collapsed": false
   },
   "outputs": [
    {
     "data": {
      "text/plain": [
       "Ticker        DBC     EEM    EWJ   ...        TLT     VGK     VTI\n",
       "Date                               ...                           \n",
       "2013-01-02  27.88  41.956  9.552   ...    107.983  43.211  69.971\n",
       "2013-01-03  27.65  41.659  9.466   ...    106.520  42.704  69.868\n",
       "2013-01-04  27.53  41.743  9.428   ...    106.935  43.063  70.222\n",
       "2013-01-07  27.58  41.427  9.342   ...    106.981  42.888  70.036\n",
       "2013-01-08  27.65  41.056  9.218   ...    107.685  42.748  69.850\n",
       "\n",
       "[5 rows x 10 columns]"
      ]
     },
     "execution_count": 4,
     "metadata": {},
     "output_type": "execute_result"
    }
   ],
   "source": [
    "closes[:5]"
   ]
  },
  {
   "cell_type": "code",
   "execution_count": 5,
   "metadata": {
    "collapsed": true
   },
   "outputs": [],
   "source": [
    "def calc_daily_returns(closes):       \n",
    "    return np.log(closes/closes.shift(1))"
   ]
  },
  {
   "cell_type": "code",
   "execution_count": 6,
   "metadata": {
    "collapsed": false
   },
   "outputs": [],
   "source": [
    "daily_returns = calc_daily_returns(closes)   \n",
    "# daily_returns[:5]"
   ]
  },
  {
   "cell_type": "code",
   "execution_count": 7,
   "metadata": {
    "collapsed": true
   },
   "outputs": [],
   "source": [
    "def calc_yearly_returns(daily_returns):       \n",
    "    ret = np.exp(daily_returns.sum())-1       \n",
    "    return ret"
   ]
  },
  {
   "cell_type": "code",
   "execution_count": 8,
   "metadata": {
    "collapsed": false
   },
   "outputs": [
    {
     "data": {
      "text/plain": [
       "Ticker\n",
       "DBC   -0.338\n",
       "EEM   -0.092\n",
       "EWJ    0.153\n",
       "GLD   -0.304\n",
       "ICF    0.302\n",
       "IEF    0.029\n",
       "RWX    0.075\n",
       "TLT    0.118\n",
       "VGK    0.142\n",
       "VTI    0.465\n",
       "dtype: float64"
      ]
     },
     "execution_count": 8,
     "metadata": {},
     "output_type": "execute_result"
    }
   ],
   "source": [
    "yearly_returns = calc_yearly_returns(daily_returns)   \n",
    "yearly_returns"
   ]
  },
  {
   "cell_type": "code",
   "execution_count": 10,
   "metadata": {
    "collapsed": true
   },
   "outputs": [],
   "source": [
    "def calc_portfolio_var(returns, weights=None):       \n",
    "    if (weights is None):            \n",
    "        weights = np.ones(returns.columns.size) / returns.columns.size       \n",
    "    sigma = np.cov(returns.T,ddof=0)       \n",
    "    var = (weights * sigma * weights.T).sum()     \n",
    "    return var   "
   ]
  },
  {
   "cell_type": "code",
   "execution_count": 11,
   "metadata": {
    "collapsed": false
   },
   "outputs": [
    {
     "data": {
      "text/plain": [
       "0.0016094776092896606"
      ]
     },
     "execution_count": 11,
     "metadata": {},
     "output_type": "execute_result"
    }
   ],
   "source": [
    "calc_portfolio_var(yearly_returns)"
   ]
  },
  {
   "cell_type": "code",
   "execution_count": 12,
   "metadata": {
    "collapsed": true
   },
   "outputs": [],
   "source": [
    "def sharpe_ratio(returns, weights = None, risk_free_rate = 0.015):       \n",
    "    n = returns.columns.size       \n",
    "    if weights is None: \n",
    "        weights = np.ones(n)/n       \n",
    "    var = calc_portfolio_var(returns, weights)       \n",
    "    means = returns.mean()       \n",
    "    return (means.dot(weights) - risk_free_rate) / np.sqrt(var)   "
   ]
  },
  {
   "cell_type": "code",
   "execution_count": 13,
   "metadata": {
    "collapsed": false
   },
   "outputs": [
    {
     "data": {
      "text/plain": [
       "1.1631636272459254"
      ]
     },
     "execution_count": 13,
     "metadata": {},
     "output_type": "execute_result"
    }
   ],
   "source": [
    "sharpe_ratio(yearly_returns)"
   ]
  },
  {
   "cell_type": "code",
   "execution_count": 14,
   "metadata": {
    "collapsed": true
   },
   "outputs": [],
   "source": [
    "# Need to maximize Sharpe ratio.  To do this iwth a minimize algo, we need to create a func to return neg Sharpe\n",
    "# Minimize functions will provide best values for function parameters\n",
    "def negative_sharpe_ratio_n_minus_1_stock(weights, returns, risk_free_rate):       \n",
    "    \"\"\"       \n",
    "    Given n-1 weights, return a negative sharpe ratio       \n",
    "    \"\"\"       \n",
    "    weights2 = sp.append(weights, 1-np.sum(weights))       \n",
    "    return -sharpe_ratio(returns, weights2, risk_free_rate)"
   ]
  },
  {
   "cell_type": "code",
   "execution_count": 15,
   "metadata": {
    "collapsed": true
   },
   "outputs": [],
   "source": [
    "def optimize_portfolio(returns, risk_free_rate):       \n",
    "    w0 = np.ones(returns.columns.size-1, dtype=float) * 1.0 / returns.columns.size       \n",
    "    w1 = scopt.fmin(negative_sharpe_ratio_n_minus_1_stock, w0, args=(returns, risk_free_rate))       \n",
    "    final_w = sp.append(w1, 1 - np.sum(w1))       \n",
    "    final_sharpe = sharpe_ratio(returns, final_w, risk_free_rate)       \n",
    "    return (final_w, final_sharpe)"
   ]
  },
  {
   "cell_type": "code",
   "execution_count": 33,
   "metadata": {
    "collapsed": false
   },
   "outputs": [
    {
     "name": "stdout",
     "output_type": "stream",
     "text": [
      "Warning: Maximum number of function evaluations has been exceeded.\n"
     ]
    }
   ],
   "source": [
    "weights, fsharpe = optimize_portfolio(yearly_returns, 0.0003)"
   ]
  },
  {
   "cell_type": "code",
   "execution_count": 34,
   "metadata": {
    "collapsed": false
   },
   "outputs": [
    {
     "data": {
      "text/plain": [
       "(inf, array([ 0.05101792,  0.07772539,  0.16023172, -0.02440116,  0.18373488,\n",
       "         0.11866519,  0.03080787,  0.13350475,  0.10838952,  0.16032392]))"
      ]
     },
     "execution_count": 34,
     "metadata": {},
     "output_type": "execute_result"
    }
   ],
   "source": [
    "fsharpe, weights"
   ]
  },
  {
   "cell_type": "code",
   "execution_count": 18,
   "metadata": {
    "collapsed": false
   },
   "outputs": [
    {
     "data": {
      "text/plain": [
       "1.0"
      ]
     },
     "execution_count": 18,
     "metadata": {},
     "output_type": "execute_result"
    }
   ],
   "source": [
    "weights.sum()"
   ]
  },
  {
   "cell_type": "code",
   "execution_count": 19,
   "metadata": {
    "collapsed": true
   },
   "outputs": [],
   "source": [
    "def objfun(W, R, target_ret):       \n",
    "    stock_mean = np.mean(R,axis=0)       \n",
    "    port_mean = np.dot(W,stock_mean)        \n",
    "    cov=np.cov(R.T)        \n",
    "    port_var = np.dot(np.dot(W,cov),W.T)        \n",
    "    penalty = 2000*abs(port_mean-target_ret)       \n",
    "    return np.sqrt(port_var) + penalty "
   ]
  },
  {
   "cell_type": "code",
   "execution_count": 20,
   "metadata": {
    "collapsed": true
   },
   "outputs": [],
   "source": [
    "def calc_efficient_frontier(returns):       \n",
    "    result_means = []       \n",
    "    result_stds = []       \n",
    "    result_weights = []           \n",
    "    means = returns.mean()       \n",
    "    min_mean, max_mean = means.min(), means.max()           \n",
    "    nstocks = returns.columns.size           \n",
    "    for r in np.linspace(min_mean, max_mean, 20):           \n",
    "        weights = np.ones(nstocks)/nstocks           \n",
    "        bounds = [(0,1) for i in np.arange(nstocks)]           \n",
    "        constraints = ({'type': 'eq',  'fun': lambda W: np.sum(W) - 1})           \n",
    "        results = scopt.minimize(objfun, weights, (returns, r), method='SLSQP', constraints = constraints, bounds = bounds)           \n",
    "        if not results.success: \n",
    "            # handle error \n",
    "            raise Exception(result.message)           \n",
    "        result_means.append(np.round(r,4)) # 4 decimal places           \n",
    "        std_=np.round(np.std(np.sum(returns*results.x,axis=1)),6)           \n",
    "        result_stds.append(std_)                   \n",
    "        result_weights.append(np.round(results.x, 5))   \n",
    "    return {'Means': result_means, 'Stds': result_stds, 'Weights': result_weights}"
   ]
  },
  {
   "cell_type": "code",
   "execution_count": 21,
   "metadata": {
    "collapsed": true
   },
   "outputs": [],
   "source": [
    "frontier_data = calc_efficient_frontier(yearly_returns)"
   ]
  },
  {
   "cell_type": "code",
   "execution_count": 22,
   "metadata": {
    "collapsed": false
   },
   "outputs": [
    {
     "data": {
      "text/plain": [
       "{'Means': [-0.1174,\n",
       "  -0.10059999999999999,\n",
       "  -0.083699999999999997,\n",
       "  -0.066900000000000001,\n",
       "  -0.050000000000000003,\n",
       "  -0.0332,\n",
       "  -0.016299999999999999,\n",
       "  0.00050000000000000001,\n",
       "  0.017399999999999999,\n",
       "  0.034200000000000001,\n",
       "  0.0511,\n",
       "  0.067900000000000002,\n",
       "  0.0848,\n",
       "  0.1016,\n",
       "  0.11849999999999999,\n",
       "  0.1353,\n",
       "  0.1522,\n",
       "  0.1691,\n",
       "  0.18590000000000001,\n",
       "  0.20280000000000001],\n",
       " 'Stds': [0.12034,\n",
       "  0.084291000000000005,\n",
       "  0.071629999999999999,\n",
       "  0.058969000000000001,\n",
       "  0.049361000000000002,\n",
       "  0.041133000000000003,\n",
       "  0.032183000000000003,\n",
       "  0.023869999999999999,\n",
       "  0.015566,\n",
       "  0.0076099999999999996,\n",
       "  1.7e-05,\n",
       "  2.1999999999999999e-05,\n",
       "  3.0000000000000001e-06,\n",
       "  9.0000000000000002e-06,\n",
       "  9.6000000000000002e-05,\n",
       "  9.3999999999999994e-05,\n",
       "  1.7e-05,\n",
       "  0.000105,\n",
       "  0.023296999999999998,\n",
       "  0.093620999999999996],\n",
       " 'Weights': [array([ 1.,  0.,  0.,  0.,  0.,  0.,  0.,  0.,  0.,  0.]),\n",
       "  array([ 0.6329 ,  0.     ,  0.     ,  0.32459,  0.     ,  0.     ,\n",
       "          0.     ,  0.04251,  0.     ,  0.     ]),\n",
       "  array([ 0.6617,  0.    ,  0.    ,  0.1766,  0.    ,  0.    ,  0.    ,\n",
       "          0.1617,  0.    ,  0.    ]),\n",
       "  array([ 0.68963,  0.     ,  0.     ,  0.02965,  0.     ,  0.     ,\n",
       "          0.     ,  0.28072,  0.     ,  0.     ]),\n",
       "  array([ 0.59667,  0.     ,  0.00921,  0.     ,  0.     ,  0.12132,\n",
       "          0.     ,  0.2728 ,  0.     ,  0.     ]),\n",
       "  array([  5.08680000e-01,   0.00000000e+00,   7.52100000e-02,\n",
       "           2.20000000e-04,   0.00000000e+00,   1.40370000e-01,\n",
       "           0.00000000e+00,   2.75510000e-01,   0.00000000e+00,\n",
       "           0.00000000e+00]),\n",
       "  array([  4.57280000e-01,   0.00000000e+00,   1.67560000e-01,\n",
       "           0.00000000e+00,   0.00000000e+00,   2.00000000e-05,\n",
       "           0.00000000e+00,   3.75140000e-01,   0.00000000e+00,\n",
       "           0.00000000e+00]),\n",
       "  array([  3.74160000e-01,   0.00000000e+00,   2.39040000e-01,\n",
       "           0.00000000e+00,   0.00000000e+00,   1.80000000e-04,\n",
       "           0.00000000e+00,   3.86620000e-01,   0.00000000e+00,\n",
       "           0.00000000e+00]),\n",
       "  array([ 0.29148,  0.     ,  0.3127 ,  0.     ,  0.     ,  0.     ,\n",
       "          0.     ,  0.39583,  0.     ,  0.     ]),\n",
       "  array([ 0.19006,  0.     ,  0.36823,  0.     ,  0.     ,  0.07846,\n",
       "          0.     ,  0.36325,  0.     ,  0.     ]),\n",
       "  array([  8.35600000e-02,   4.40000000e-04,   4.17410000e-01,\n",
       "           1.90000000e-04,   4.20000000e-04,   1.91750000e-01,\n",
       "           1.30000000e-04,   3.02480000e-01,   6.00000000e-05,\n",
       "           3.56000000e-03]),\n",
       "  array([  1.13530000e-01,   7.00000000e-05,   2.15400000e-01,\n",
       "           2.16000000e-02,   1.66900000e-02,   1.81270000e-01,\n",
       "           4.60000000e-04,   2.40420000e-01,   2.42000000e-03,\n",
       "           2.08140000e-01]),\n",
       "  array([  1.03560000e-01,   7.00000000e-05,   1.23330000e-01,\n",
       "           7.29400000e-02,   7.76600000e-02,   1.30600000e-01,\n",
       "           6.00000000e-05,   1.57790000e-01,   8.00000000e-05,\n",
       "           3.33920000e-01]),\n",
       "  array([ 0.0628 ,  0.02241,  0.0909 ,  0.06375,  0.08947,  0.11189,\n",
       "          0.01876,  0.14875,  0.01931,  0.37196]),\n",
       "  array([ 0.06056,  0.0211 ,  0.0571 ,  0.04071,  0.14285,  0.06674,\n",
       "          0.04193,  0.13241,  0.03361,  0.403  ]),\n",
       "  array([ 0.04556,  0.01023,  0.04605,  0.01383,  0.17506,  0.04051,\n",
       "          0.07841,  0.12944,  0.03983,  0.42108]),\n",
       "  array([ 0.02588,  0.01691,  0.0132 ,  0.01009,  0.1915 ,  0.01699,\n",
       "          0.11214,  0.10705,  0.01505,  0.49118]),\n",
       "  array([ 0.00478,  0.0024 ,  0.00445,  0.00583,  0.24839,  0.01105,\n",
       "          0.14405,  0.05208,  0.00561,  0.52136]),\n",
       "  array([ 0.     ,  0.     ,  0.     ,  0.     ,  0.28107,  0.     ,\n",
       "          0.06464,  0.     ,  0.     ,  0.65428]),\n",
       "  array([ 0.,  0.,  0.,  0.,  0.,  0.,  0.,  0.,  0.,  1.])]}"
      ]
     },
     "execution_count": 22,
     "metadata": {},
     "output_type": "execute_result"
    }
   ],
   "source": [
    "frontier_data"
   ]
  },
  {
   "cell_type": "code",
   "execution_count": 23,
   "metadata": {
    "collapsed": false
   },
   "outputs": [
    {
     "data": {
      "text/plain": [
       "[-0.1174,\n",
       " -0.10059999999999999,\n",
       " -0.083699999999999997,\n",
       " -0.066900000000000001,\n",
       " -0.050000000000000003]"
      ]
     },
     "execution_count": 23,
     "metadata": {},
     "output_type": "execute_result"
    }
   ],
   "source": [
    "frontier_data['Means'][:5]"
   ]
  },
  {
   "cell_type": "code",
   "execution_count": 24,
   "metadata": {
    "collapsed": false
   },
   "outputs": [
    {
     "data": {
      "text/plain": [
       "[0.12034,\n",
       " 0.084291000000000005,\n",
       " 0.071629999999999999,\n",
       " 0.058969000000000001,\n",
       " 0.049361000000000002]"
      ]
     },
     "execution_count": 24,
     "metadata": {},
     "output_type": "execute_result"
    }
   ],
   "source": [
    "frontier_data['Stds'][:5]"
   ]
  },
  {
   "cell_type": "code",
   "execution_count": 25,
   "metadata": {
    "collapsed": false
   },
   "outputs": [
    {
     "data": {
      "text/plain": [
       "array([  1.03560000e-01,   7.00000000e-05,   1.23330000e-01,\n",
       "         7.29400000e-02,   7.76600000e-02,   1.30600000e-01,\n",
       "         6.00000000e-05,   1.57790000e-01,   8.00000000e-05,\n",
       "         3.33920000e-01])"
      ]
     },
     "execution_count": 25,
     "metadata": {},
     "output_type": "execute_result"
    }
   ],
   "source": [
    "# Minimum Variance Portfolio is found by identifying the index of the lowest variance datapoint\n",
    "# Use that index to find the associated weights\n",
    "x=frontier_data['Stds'].index(min(frontier_data['Stds']))\n",
    "frontier_data['Weights'][x]"
   ]
  },
  {
   "cell_type": "code",
   "execution_count": 26,
   "metadata": {
    "collapsed": false
   },
   "outputs": [
    {
     "data": {
      "text/plain": [
       "[array([ 1.,  0.,  0.,  0.,  0.,  0.,  0.,  0.,  0.,  0.]),\n",
       " array([ 0.6329 ,  0.     ,  0.     ,  0.32459,  0.     ,  0.     ,\n",
       "         0.     ,  0.04251,  0.     ,  0.     ]),\n",
       " array([ 0.6617,  0.    ,  0.    ,  0.1766,  0.    ,  0.    ,  0.    ,\n",
       "         0.1617,  0.    ,  0.    ]),\n",
       " array([ 0.68963,  0.     ,  0.     ,  0.02965,  0.     ,  0.     ,\n",
       "         0.     ,  0.28072,  0.     ,  0.     ]),\n",
       " array([ 0.59667,  0.     ,  0.00921,  0.     ,  0.     ,  0.12132,\n",
       "         0.     ,  0.2728 ,  0.     ,  0.     ])]"
      ]
     },
     "execution_count": 26,
     "metadata": {},
     "output_type": "execute_result"
    }
   ],
   "source": [
    "frontier_data['Weights'][:5]"
   ]
  },
  {
   "cell_type": "code",
   "execution_count": 27,
   "metadata": {
    "collapsed": true
   },
   "outputs": [],
   "source": [
    "def plot_efficient_frontier(ef_data):       \n",
    "    plt.figure(figsize=(12,8))       \n",
    "    plt.title('Efficient Frontier')       \n",
    "    plt.xlabel('Standard Deviation of the porfolio (Risk))')       \n",
    "    plt.ylabel('Return of the portfolio')       \n",
    "    plt.plot(ef_data['Stds'], ef_data['Means'], '--');  "
   ]
  },
  {
   "cell_type": "code",
   "execution_count": 28,
   "metadata": {
    "collapsed": false
   },
   "outputs": [
    {
     "data": {
      "image/png": "[encoded data removed]",
      "text/plain": [
       "<matplotlib.figure.Figure at 0x7fcdb4134110>"
      ]
     },
     "metadata": {},
     "output_type": "display_data"
    }
   ],
   "source": [
    "plot_efficient_frontier(frontier_data)"
   ]
  },
  {
   "cell_type": "code",
   "execution_count": 53,
   "metadata": {
    "collapsed": false
   },
   "outputs": [
    {
     "data": {
      "text/plain": [
       "14.400000000000002"
      ]
     },
     "execution_count": 53,
     "metadata": {},
     "output_type": "execute_result"
    }
   ],
   "source": []
  },
  {
   "cell_type": "code",
   "execution_count": null,
   "metadata": {
    "collapsed": true
   },
   "outputs": [],
   "source": []
  }
 ],
 "metadata": {
  "kernelspec": {
   "display_name": "Python 2",
   "language": "python",
   "name": "python2"
  },
  "language_info": {
   "codemirror_mode": {
    "name": "ipython",
    "version": 2
   },
   "file_extension": ".py",
   "mimetype": "text/x-python",
   "name": "python",
   "nbconvert_exporter": "python",
   "pygments_lexer": "ipython2",
   "version": "2.7.12"
  }
 },
 "nbformat": 4,
 "nbformat_minor": 0
}
